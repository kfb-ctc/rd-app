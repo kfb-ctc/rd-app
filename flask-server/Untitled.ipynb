{
 "cells": [
  {
   "cell_type": "code",
   "execution_count": 1,
   "id": "67cf8e4b-95bd-469c-aeed-52911b78f73d",
   "metadata": {},
   "outputs": [],
   "source": [
    "import pandas as pd\n",
    "import numpy as np"
   ]
  },
  {
   "cell_type": "code",
   "execution_count": 2,
   "id": "a0895585-af8c-451a-89ba-84411f095073",
   "metadata": {},
   "outputs": [],
   "source": [
    "#load in project financial data\n",
    "df = pd.read_excel('project_ledger.xlsx', sheet_name = 'ERCIP Obligation Ledger', header = 3, usecols=lambda x: 'Unnamed' not in x)\n",
    "df = df[['FY of Funding Action','Project #', 'P&D Funding Actions','Construction Funding Actions']]"
   ]
  },
  {
   "cell_type": "code",
   "execution_count": 3,
   "id": "c6b37fb6-cbec-42bd-87a8-ab4aeb82c642",
   "metadata": {},
   "outputs": [],
   "source": [
    "#create functions to calculate values\n",
    "def pos(col): \n",
    "  return col[col > 0].sum()\n",
    "  \n",
    "def neg(col): \n",
    "  return col[col < 0].sum()"
   ]
  },
  {
   "cell_type": "code",
   "execution_count": 4,
   "id": "7b0cdce8-a9fa-41a9-84a4-4d500a0d0e80",
   "metadata": {},
   "outputs": [],
   "source": [
    "#group data by FY\n",
    "df_FY = df.groupby(by = 'FY of Funding Action')"
   ]
  },
  {
   "cell_type": "code",
   "execution_count": 8,
   "id": "bd0a4079-3556-47e3-a838-d8395d38ae82",
   "metadata": {},
   "outputs": [],
   "source": [
    "#calculate balances - apply lambda function to sum positive and negative values separately\n",
    "pd_total = df_FY['P&D Funding Actions'].agg([('spending', neg),\n",
    "                          ('funding', pos)\n",
    "                          ])\n",
    "c_total = df_FY['Construction Funding Actions'].agg([('spending', neg),\n",
    "                          ('funding', pos)\n",
    "                          ])\n",
    "\n",
    "pd_total['spending'] = pd_total['spending'] * -1\n",
    "c_total['spending'] = c_total['spending'] * -1\n",
    "\n",
    "pd_total['balance'] = pd_total['funding'] - pd_total['spending'] \n",
    "c_total['balance'] = c_total['funding'] - c_total['spending'] \n",
    "\n",
    "pd_total.columns = ['pd_spending','pd_funding', 'pd_balance']\n",
    "c_total.columns = ['c_spending','c_funding', 'c_balance']\n",
    "\n",
    "pd_dict = pd_total.to_dict()\n",
    "c_dict = c_total.to_dict()\n",
    "\n",
    "merged = {**pd_dict, **c_dict}"
   ]
  },
  {
   "cell_type": "code",
   "execution_count": 9,
   "id": "2b819258-238e-49e5-9909-054d2b46d98b",
   "metadata": {},
   "outputs": [
    {
     "data": {
      "text/plain": [
       "{'pd_spending': {2017: 139000.0,\n",
       "  2018: 1001000.0,\n",
       "  2019: 3957000.0,\n",
       "  2020: 1165000.0,\n",
       "  2021: 374395.0,\n",
       "  2022: 805867.46,\n",
       "  2023: -0.0},\n",
       " 'pd_funding': {2017: 139000.0,\n",
       "  2018: 1001000.0,\n",
       "  2019: 6767862.25,\n",
       "  2020: 1165000.0,\n",
       "  2021: 405000.0,\n",
       "  2022: 5759000.0,\n",
       "  2023: 4377000.0},\n",
       " 'pd_balance': {2017: 0.0,\n",
       "  2018: 0.0,\n",
       "  2019: 2810862.25,\n",
       "  2020: 0.0,\n",
       "  2021: 30605.0,\n",
       "  2022: 4953132.54,\n",
       "  2023: 4377000.0},\n",
       " 'c_spending': {2017: 1395000.0,\n",
       "  2018: 15935000.47,\n",
       "  2019: 13897000.0,\n",
       "  2020: -0.0,\n",
       "  2021: -0.0,\n",
       "  2022: -0.0,\n",
       "  2023: -0.0},\n",
       " 'c_funding': {2017: 1395000.0,\n",
       "  2018: 15935000.0,\n",
       "  2019: 37509000.0,\n",
       "  2020: 11636000.0,\n",
       "  2021: 11646000.0,\n",
       "  2022: 4054000.0,\n",
       "  2023: 25560000.0},\n",
       " 'c_balance': {2017: 0.0,\n",
       "  2018: -0.47000000067055225,\n",
       "  2019: 23612000.0,\n",
       "  2020: 11636000.0,\n",
       "  2021: 11646000.0,\n",
       "  2022: 4054000.0,\n",
       "  2023: 25560000.0}}"
      ]
     },
     "execution_count": 9,
     "metadata": {},
     "output_type": "execute_result"
    }
   ],
   "source": [
    "merged"
   ]
  },
  {
   "cell_type": "code",
   "execution_count": 14,
   "id": "58139035-154d-4e08-84e3-7b79c5a5d3e6",
   "metadata": {},
   "outputs": [
    {
     "data": {
      "text/plain": [
       "{'spending': {2017: 1395000.0,\n",
       "  2018: 15935000.47,\n",
       "  2019: 13897000.0,\n",
       "  2020: -0.0,\n",
       "  2021: -0.0,\n",
       "  2022: -0.0,\n",
       "  2023: -0.0},\n",
       " 'funding': {2017: 1395000.0,\n",
       "  2018: 15935000.0,\n",
       "  2019: 37509000.0,\n",
       "  2020: 11636000.0,\n",
       "  2021: 11646000.0,\n",
       "  2022: 4054000.0,\n",
       "  2023: 25560000.0},\n",
       " 'balance': {2017: 0.0,\n",
       "  2018: -0.47000000067055225,\n",
       "  2019: 23612000.0,\n",
       "  2020: 11636000.0,\n",
       "  2021: 11646000.0,\n",
       "  2022: 4054000.0,\n",
       "  2023: 25560000.0}}"
      ]
     },
     "execution_count": 14,
     "metadata": {},
     "output_type": "execute_result"
    }
   ],
   "source": [
    "c_dict"
   ]
  },
  {
   "cell_type": "code",
   "execution_count": 6,
   "id": "0d3bec32-12d1-4cb4-bd89-a42a33949863",
   "metadata": {},
   "outputs": [],
   "source": [
    "#create functions to pull in data from spreadsheet\n",
    "def pos(col): \n",
    "  return col[col > 0].sum()\n",
    "  \n",
    "def neg(col): \n",
    "  return col[col < 0].sum()\n",
    "\n",
    "def get_balance_data(data):\n",
    "    \n",
    "    #import data from spreadsheet\n",
    "    df = pd.read_excel(data, sheet_name = 'ERCIP Obligation Ledger', header = 3, usecols=lambda x: 'Unnamed' not in x)\n",
    "    df = df[['FY of Funding Action','Project #', 'P&D Funding Actions','Construction Funding Actions']]\n",
    "    \n",
    "    #group data by FY\n",
    "    df_FY = df.groupby(by = 'FY of Funding Action')\n",
    "    \n",
    "    #calculate balances - apply lambda function to sum positive and negative values separately\n",
    "    pd_total = df_FY['P&D Funding Actions'].agg([('spending', neg),\n",
    "                              ('funding', pos)\n",
    "                              ])\n",
    "    c_total = df_FY['Construction Funding Actions'].agg([('spending', neg),\n",
    "                              ('funding', pos)\n",
    "                              ])\n",
    "    #convert spending from negative to positive\n",
    "    pd_total['spending'] = pd_total['spending'] * -1\n",
    "    c_total['spending'] = c_total['spending'] * -1\n",
    "    \n",
    "    #subtract spending from funding to find balance\n",
    "    pd_total['balance'] = pd_total['funding'] - pd_total['spending'] \n",
    "    c_total['balance'] = c_total['funding'] - c_total['spending'] \n",
    "    \n",
    "    print(pd_total)\n",
    "    #convert dataframe to dictionary \n",
    "    pd_dict = pd_total.to_dict()\n",
    "    c_dict = c_total.to_dict()\n",
    "    \n",
    "    return pd_dict, c_dict"
   ]
  },
  {
   "cell_type": "code",
   "execution_count": 9,
   "id": "47962bf4-42ed-4976-b5d0-a1022835f102",
   "metadata": {},
   "outputs": [
    {
     "name": "stdout",
     "output_type": "stream",
     "text": [
      "                        spending     funding     balance\n",
      "FY of Funding Action                                    \n",
      "2017                   139000.00   139000.00        0.00\n",
      "2018                  1001000.00  1001000.00        0.00\n",
      "2019                  3957000.00  6767862.25  2810862.25\n",
      "2020                  1165000.00  1165000.00        0.00\n",
      "2021                   374395.00   405000.00    30605.00\n",
      "2022                   805867.46  5759000.00  4953132.54\n",
      "2023                       -0.00  4377000.00  4377000.00\n"
     ]
    }
   ],
   "source": [
    "x = get_balance_data(data = 'project_ledger.xlsx')"
   ]
  },
  {
   "cell_type": "code",
   "execution_count": 11,
   "id": "572c4844-b4a3-458f-8c24-c51b7b26060e",
   "metadata": {},
   "outputs": [
    {
     "name": "stdout",
     "output_type": "stream",
     "text": [
      "{'spending': {2017: 1395000.0, 2018: 15935000.47, 2019: 13897000.0, 2020: -0.0, 2021: -0.0, 2022: -0.0, 2023: -0.0}, 'funding': {2017: 1395000.0, 2018: 15935000.0, 2019: 37509000.0, 2020: 11636000.0, 2021: 11646000.0, 2022: 4054000.0, 2023: 25560000.0}, 'balance': {2017: 0.0, 2018: -0.47000000067055225, 2019: 23612000.0, 2020: 11636000.0, 2021: 11646000.0, 2022: 4054000.0, 2023: 25560000.0}}\n"
     ]
    }
   ],
   "source": [
    "print(y)"
   ]
  },
  {
   "cell_type": "code",
   "execution_count": null,
   "id": "4d79ee6f-c1b3-4902-b5dc-286374675705",
   "metadata": {},
   "outputs": [],
   "source": []
  }
 ],
 "metadata": {
  "kernelspec": {
   "display_name": "Python 3 (ipykernel)",
   "language": "python",
   "name": "python3"
  },
  "language_info": {
   "codemirror_mode": {
    "name": "ipython",
    "version": 3
   },
   "file_extension": ".py",
   "mimetype": "text/x-python",
   "name": "python",
   "nbconvert_exporter": "python",
   "pygments_lexer": "ipython3",
   "version": "3.9.7"
  }
 },
 "nbformat": 4,
 "nbformat_minor": 5
}
